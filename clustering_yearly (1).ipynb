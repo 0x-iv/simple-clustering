{
 "cells": [
  {
   "cell_type": "code",
   "execution_count": 14,
   "metadata": {},
   "outputs": [],
   "source": [
    "import pandas as pd\n",
    "import numpy as np\n",
    "import matplotlib.pyplot as plt\n",
    "pd.set_option('display.max_columns', None)\n",
    "pd.set_option('display.max_rows', None)\n",
    "from itertools import chain, combinations\n",
    "from scipy import stats\n",
    "from termcolor import colored\n",
    "from sklearn.externals import joblib \n",
    "import datetime"
   ]
  },
  {
   "cell_type": "code",
   "execution_count": 41,
   "metadata": {},
   "outputs": [],
   "source": [
    "from sklearn.cluster import KMeans"
   ]
  },
  {
   "cell_type": "markdown",
   "metadata": {},
   "source": [
    "## Steps to Calculate New Cluster for tenant\n",
    "1) (a) change file name (b) change tenant \\\n",
    "2) at very bottom, look at clustering results, highest avg. amount should be high value, next highest is high potential, lowest is low value"
   ]
  },
  {
   "cell_type": "code",
   "execution_count": 31,
   "metadata": {},
   "outputs": [],
   "source": [
    "date_cols = ['HSTX_HSTDATE']\n",
    "tx_hist = pd.read_csv('./cbnj/tx_hist.csv', delimiter='|', parse_dates=date_cols)\n",
    "tenant = 'cbnj'"
   ]
  },
  {
   "cell_type": "code",
   "execution_count": null,
   "metadata": {},
   "outputs": [],
   "source": [
    "tx_hist.head()"
   ]
  },
  {
   "cell_type": "code",
   "execution_count": 156,
   "metadata": {},
   "outputs": [],
   "source": [
    "in_credit = ['BTR', 'CKS' 'CTP', 'CTR', 'FFR', 'FRS']\n",
    "out_credit = ['DRC', 'DRW', 'DEP']\n",
    "na_account = ['SVC']"
   ]
  },
  {
   "cell_type": "code",
   "execution_count": 157,
   "metadata": {},
   "outputs": [],
   "source": [
    "def get_my_account(row):\n",
    "    ''' \n",
    "        Obtain my_account from BUSCODE\n",
    "    '''\n",
    "    in_credit = ['BTR', 'CKS' 'CTP', 'CTR', 'FFR', 'FRS']\n",
    "    out_credit = ['DRC', 'DRW', 'DEP']\n",
    "    na_account = ['SVC']\n",
    "    \n",
    "    if row['HSTX_BUSCODE'] in out_credit:\n",
    "        if row['HSTX_DIRECTION'] == 'I':\n",
    "            return row['HSTX_DBTACCT']\n",
    "        else:\n",
    "            return row['HSTX_CDTACCT']\n",
    "    elif row['HSTX_BUSCODE'] in in_credit:\n",
    "        if row['HSTX_DIRECTION'] == 'I':\n",
    "            return row['HSTX_CDTACCT']\n",
    "        else:\n",
    "            return row['HSTX_DBTACCT']\n",
    "    elif row['HSTX_BUSCODE'] in na_account:\n",
    "        return np.nan\n",
    "    else:\n",
    "        return np.nan\n",
    "        \n",
    "\n",
    "def reduce_bus_code(row): \n",
    "    ''' \n",
    "        Remap the BUSCODE as CT, DD, SVC, or N/A\n",
    "    '''\n",
    "\n",
    "    if row['HSTX_BUSCODE'] in ['BTR','CKS','CTP','CTR','FFR','FFS']: \n",
    "        return 'CT'\n",
    "    elif row['HSTX_BUSCODE'] in ['DRC','DRW','DEP']: \n",
    "        return 'DD'\n",
    "    elif row['HSTX_BUSCODE'] in ['SVC']: \n",
    "        return 'SVC'\n",
    "    else: return 'N/A'\n",
    "    \n",
    "def get_quarter(row):\n",
    "    return row['HSTX_HSTDATE'].quarter\n",
    "        \n",
    "\n"
   ]
  },
  {
   "cell_type": "code",
   "execution_count": 158,
   "metadata": {
    "scrolled": true
   },
   "outputs": [],
   "source": [
    "tx_hist['HSTX_ACCT'] = np.nan\n",
    "tx_hist['HSTX_ACCT'] = tx_hist.apply(get_my_account, axis=1)\n",
    "# tx_hist['HSTX_BUSCODE'] = tx_hist.apply(reduce_bus_code, axis=1)"
   ]
  },
  {
   "cell_type": "code",
   "execution_count": 159,
   "metadata": {},
   "outputs": [],
   "source": [
    "# tx_hist['HSTX_QUARTER'] =  tx_hist.apply(get_quarter, axis=1)"
   ]
  },
  {
   "cell_type": "code",
   "execution_count": 160,
   "metadata": {},
   "outputs": [],
   "source": [
    "tx_hist_truncated = tx_hist.dropna(subset=['HSTX_ACCT'])\n",
    "tx_hist_truncated = tx_hist_truncated[tx_hist_truncated['HSTX_MSGSTAT']=='PNRM']"
   ]
  },
  {
   "cell_type": "code",
   "execution_count": 161,
   "metadata": {},
   "outputs": [
    {
     "data": {
      "text/plain": [
       "0    2009-03-18\n",
       "6    2009-03-18\n",
       "10   2009-03-13\n",
       "24   2009-03-18\n",
       "36   2009-03-18\n",
       "Name: HSTX_HSTDATE, dtype: datetime64[ns]"
      ]
     },
     "execution_count": 161,
     "metadata": {},
     "output_type": "execute_result"
    }
   ],
   "source": [
    "tx_hist_truncated['HSTX_HSTDATE'].head()"
   ]
  },
  {
   "cell_type": "code",
   "execution_count": 162,
   "metadata": {},
   "outputs": [],
   "source": [
    "tx_hist_truncated['HSTX_HSTDATE'] = tx_hist_truncated['HSTX_HSTDATE'].astype(str)\n",
    "tx_hist_truncated['HSTX_HSTYEAR'] = pd.DatetimeIndex(tx_hist_truncated['HSTX_HSTDATE']).year\n",
    "#tx_hist_truncated['HSTX_HSTYEAR'] = tx_hist_truncated['HSTX_HSTDATE'].apply(lambda i: i.dt.year)"
   ]
  },
  {
   "cell_type": "code",
   "execution_count": 163,
   "metadata": {},
   "outputs": [],
   "source": [
    "cols=['HSTX_HSTDATE', 'HSTX_ACCT', #'HSTX_AMOUNT', 'HSTX_DBT_AMOUNT', 'HSTX_CDT_AMOUNT', 'HSTX_TRANCODE', 'HSTX_SOURCE', 'HSTX_BUSCODE',\n",
    "       'HSTX_FX_AMOUNT', 'HSTX_HSTYEAR']# , 'HSTX_QUARTER']"
   ]
  },
  {
   "cell_type": "code",
   "execution_count": 164,
   "metadata": {},
   "outputs": [],
   "source": [
    "tx_hist_processed = tx_hist_truncated.loc[:, cols]"
   ]
  },
  {
   "cell_type": "code",
   "execution_count": 165,
   "metadata": {
    "scrolled": true
   },
   "outputs": [
    {
     "data": {
      "text/plain": [
       "Index(['HSTX_HSTDATE', 'HSTX_ACCT', 'HSTX_FX_AMOUNT', 'HSTX_HSTYEAR'], dtype='object')"
      ]
     },
     "execution_count": 165,
     "metadata": {},
     "output_type": "execute_result"
    }
   ],
   "source": [
    "tx_hist_processed.columns"
   ]
  },
  {
   "cell_type": "code",
   "execution_count": 166,
   "metadata": {},
   "outputs": [],
   "source": [
    "def get_credit_dummies(df):\n",
    "    ct_dd_dummies = pd.get_dummies(df['HSTX_BUSCODE'], prefix='BUSCODE')\n",
    "    df_concat = pd.concat([df, ct_dd_dummies], axis=1)\n",
    "    df_concat = df_concat.drop(['HSTX_BUSCODE'], axis=1)\n",
    "    return df_concat\n",
    "\n",
    "def get_quarter_dummies(df):\n",
    "    quarter_dummies = pd.get_dummies(df['HSTX_QUARTER'], prefix='QUARTER')\n",
    "    df_concat = pd.concat([df, quarter_dummies], axis=1)\n",
    "    df_concat = df_concat.drop(['HSTX_QUARTER'], axis=1)\n",
    "    for i in range(4):\n",
    "        df_concat['QUARTER_{}'.format(i+1)] = df_concat['QUARTER_{}'.format(i+1)] * df_concat['HSTX_FX_AMOUNT']\n",
    "    return df_concat"
   ]
  },
  {
   "cell_type": "code",
   "execution_count": 167,
   "metadata": {
    "scrolled": true
   },
   "outputs": [],
   "source": [
    "# tx_hist_processed = get_quarter_dummies(tx_hist_processed)"
   ]
  },
  {
   "cell_type": "code",
   "execution_count": null,
   "metadata": {
    "scrolled": false
   },
   "outputs": [],
   "source": [
    "tx_hist_processed.head()"
   ]
  },
  {
   "cell_type": "code",
   "execution_count": 169,
   "metadata": {},
   "outputs": [],
   "source": [
    "aggs = {\n",
    "    'HSTX_HSTDATE': ['min', 'max'],\n",
    "    'HSTX_ACCT': ['count'],\n",
    "#     'HSTX_DBT_AMOUNT': ['mean', 'max', 'std'],\n",
    "#     'HSTX_CDT_AMOUNT': ['mean', 'max', 'std'],\n",
    "    'HSTX_FX_AMOUNT': ['sum', 'median'],\n",
    "#     'BUSCODE_CT': ['sum'],\n",
    "#     'BUSCODE_DD': ['sum']\n",
    "}\n",
    "# for i in range(4):\n",
    "#     aggs['QUARTER_{}'.format(i+1)] = ['sum']"
   ]
  },
  {
   "cell_type": "code",
   "execution_count": 170,
   "metadata": {},
   "outputs": [],
   "source": [
    "tx_agg = tx_hist_processed.groupby(['HSTX_ACCT','HSTX_HSTYEAR']).agg(aggs).reset_index(level=1)"
   ]
  },
  {
   "cell_type": "code",
   "execution_count": 171,
   "metadata": {},
   "outputs": [],
   "source": [
    "# for col in tx_agg.columns:\n",
    "#     print(col)\n",
    "#     plt.hist(tx_agg[col], bins=50)\n",
    "#     plt.show()"
   ]
  },
  {
   "cell_type": "code",
   "execution_count": 172,
   "metadata": {},
   "outputs": [],
   "source": [
    "new_cols = ['Year', 'FirstTranDate', 'LastTranDate', 'NumTransactions', 'TotalYearlyAmount', 'MedianTransactionAmount']# , 'Q1_Amount', 'Q2_Amount', 'Q3_Amount', 'Q4_Amount']\n",
    "\n",
    "tx_agg.columns = new_cols"
   ]
  },
  {
   "cell_type": "code",
   "execution_count": null,
   "metadata": {
    "scrolled": true
   },
   "outputs": [],
   "source": [
    "tx_agg.head(100)"
   ]
  },
  {
   "cell_type": "code",
   "execution_count": 174,
   "metadata": {},
   "outputs": [],
   "source": [
    "def view_feature_histograms(df):\n",
    "    numeric_cols = df.select_dtypes(include=np.number).columns\n",
    "    for col in numeric_cols:\n",
    "        print(col)\n",
    "        plt.hist(df[col], bins=20)\n",
    "        plt.show()\n",
    "\n",
    "def elbow_method(df):\n",
    "    Sum_of_squared_distances = []\n",
    "    K = range(2,15)\n",
    "    kms = []\n",
    "    for k in K:\n",
    "        km = KMeans(n_clusters=k)\n",
    "        km = km.fit(df)\n",
    "        kms.append(km)\n",
    "        Sum_of_squared_distances.append(km.inertia_)\n",
    "\n",
    "    plt.plot(K, Sum_of_squared_distances, 'bx-')\n",
    "    plt.xlabel('k')\n",
    "    plt.ylabel('Sum_of_squared_distances')\n",
    "    plt.title('Elbow Method For Optimal k')\n",
    "    plt.show()\n",
    "    return kms\n",
    "\n",
    "def get_cluster_counts(kms, df):\n",
    "    for km in kms:\n",
    "        print('n_clusters: ', km.n_clusters)\n",
    "        print(np.unique(km.predict(df), return_counts=True)[1])\n",
    "\n",
    "def get_cluster_variances(kmeans, df_predict, df_raw):\n",
    "    print('FEATURES WITH {} CLUSTERS'.format(kmeans.n_clusters))\n",
    "    cluster_features = df_raw.loc[:]\n",
    "    cluster_features['Cluster'] = kmeans.predict(df_predict)#*best_weights)\n",
    "    for col in cluster_features.columns[:-1]:\n",
    "        print(col)\n",
    "        plt.scatter(cluster_features['Cluster'], cluster_features[col])\n",
    "        plt.show()\n",
    "    return cluster_features\n",
    "\n",
    "def get_cluster_averages(kmeans, df_predict, df_raw):\n",
    "    print('FEATURES WITH {} CLUSTERS'.format(kmeans.n_clusters))\n",
    "    cluster_features = df_raw.loc[:]\n",
    "    cluster_features['Cluster'] = kmeans.predict(df_predict)\n",
    "    for col in cluster_features.columns[:-1]:\n",
    "        print(col)\n",
    "        averages = []\n",
    "        cluster_sizes = []\n",
    "        for cluster in range(kmeans.n_clusters):\n",
    "            features = cluster_features.loc[cluster_features['Cluster'] == cluster, col]\n",
    "            averages.append(np.mean(features))\n",
    "            cluster_sizes.append(features.shape[0])\n",
    "        plt.bar(np.arange(kmeans.n_clusters), averages)\n",
    "        print(averages)\n",
    "        plt.show()\n",
    "    return cluster_features\n",
    "\n",
    "def get_months_diff(series1, series2):\n",
    "    return 12 * (series1.dt.year - series2.dt.year) + (series1.dt.month + 1 - series2.dt.month)\n",
    "\n",
    "def log2p(x):\n",
    "    return np.log1p(x+2)"
   ]
  },
  {
   "cell_type": "markdown",
   "metadata": {},
   "source": [
    "### Try aggregates over all years per account"
   ]
  },
  {
   "cell_type": "code",
   "execution_count": 175,
   "metadata": {},
   "outputs": [],
   "source": [
    "# yearly_aggs = {column: ['mean'] for column in tx_agg.columns}\n",
    "# yearly_aggs['FirstTranDate'] = ['min']\n",
    "# yearly_aggs['LastTranDate'] = ['max']\n",
    "# # for col in ['NumTransactions', 'TotalYearlyAmount']:\n",
    "# #     yearly_aggs[col].append(('std', lambda s: s.std(ddof=0)))\n",
    "# del yearly_aggs['Year']\n",
    "# yearly_aggs['NumTransactions'].append('sum')\n",
    "# yearly_aggs\n",
    "\n",
    "yearly_aggs = {'NumTransactions': ['mean', 'sum'],\n",
    "              'TotalYearlyAmount': ['mean'],\n",
    "              'MedianTransactionAmount': ['median']}"
   ]
  },
  {
   "cell_type": "code",
   "execution_count": 176,
   "metadata": {},
   "outputs": [],
   "source": [
    "tx_agg_yearly = tx_agg.groupby(level=0).agg(yearly_aggs, ddof=1)\n",
    "tx_agg_yearly.columns = ['{}_{}'.format(col[0], col[1]) for col in tx_agg_yearly.columns]\n",
    "tx_agg_yearly = tx_agg_yearly.fillna(0)"
   ]
  },
  {
   "cell_type": "code",
   "execution_count": 177,
   "metadata": {},
   "outputs": [],
   "source": [
    "# tx_agg_yearly['Today'] = pd.Timestamp.now()\n",
    "# tx_agg_yearly['AccountLife'] = get_months_diff(tx_agg_yearly['Today'],\n",
    "#                                                tx_agg_yearly['FirstTranDate_min'])\n",
    "# tx_agg_yearly['MonthsActivity'] = get_months_diff(tx_agg_yearly['LastTranDate_max'],\n",
    "#                                                   tx_agg_yearly['FirstTranDate_min'])\n",
    "# tx_agg_yearly['MonthsInactivity'] = tx_agg_yearly['AccountLife'] - tx_agg_yearly['MonthsActivity']\n",
    "# tx_agg_yearly['Years_Activity'] =(tx_agg_yearly['MonthsActivity']//12)+1"
   ]
  },
  {
   "cell_type": "code",
   "execution_count": null,
   "metadata": {
    "scrolled": true
   },
   "outputs": [],
   "source": [
    "tx_agg_yearly.head()"
   ]
  },
  {
   "cell_type": "code",
   "execution_count": 179,
   "metadata": {},
   "outputs": [],
   "source": [
    "# tx_agg_yearly = tx_agg_yearly[\n",
    "#     ['NumTransactions_sum',\n",
    "#      'NumTransactions_mean', 'TotalYearlyAmount_mean', #'MedianTransactionAmount_mean', #'TotalYearlyAmount_std',\n",
    "#      'Q1_Amount_mean', 'Q2_Amount_mean', 'Q3_Amount_mean', 'Q4_Amount_mean',\n",
    "# #      'AccountLife', 'MonthsActivity', 'MonthsInactivity', 'Years_Activity'\n",
    "#                               ]]"
   ]
  },
  {
   "cell_type": "code",
   "execution_count": 180,
   "metadata": {},
   "outputs": [],
   "source": [
    "def filter_min_transactions(df, min_transactions):\n",
    "    return df.loc[df['NumTransactions_sum'] >= min_transactions ].drop('NumTransactions_sum', axis=1)"
   ]
  },
  {
   "cell_type": "code",
   "execution_count": 181,
   "metadata": {
    "scrolled": true
   },
   "outputs": [],
   "source": [
    "df_raw = tx_agg_yearly.select_dtypes(include=np.number)\n",
    "df_raw = filter_min_transactions(df_raw, 1)\n",
    "df_predict = df_raw.applymap(np.log1p)"
   ]
  },
  {
   "cell_type": "code",
   "execution_count": 182,
   "metadata": {
    "scrolled": true
   },
   "outputs": [
    {
     "name": "stdout",
     "output_type": "stream",
     "text": [
      "NumTransactions_mean\n"
     ]
    },
    {
     "data": {
      "image/png": "[encoded data removed]",
      "text/plain": [
       "<Figure size 432x288 with 1 Axes>"
      ]
     },
     "metadata": {
      "needs_background": "light"
     },
     "output_type": "display_data"
    },
    {
     "name": "stdout",
     "output_type": "stream",
     "text": [
      "TotalYearlyAmount_mean\n"
     ]
    },
    {
     "data": {
      "image/png": "[encoded data removed]",
      "text/plain": [
       "<Figure size 432x288 with 1 Axes>"
      ]
     },
     "metadata": {
      "needs_background": "light"
     },
     "output_type": "display_data"
    },
    {
     "name": "stdout",
     "output_type": "stream",
     "text": [
      "MedianTransactionAmount_median\n"
     ]
    },
    {
     "data": {
      "image/png": "[encoded data removed]",
      "text/plain": [
       "<Figure size 432x288 with 1 Axes>"
      ]
     },
     "metadata": {
      "needs_background": "light"
     },
     "output_type": "display_data"
    }
   ],
   "source": [
    "view_feature_histograms(df_predict)"
   ]
  },
  {
   "cell_type": "code",
   "execution_count": 183,
   "metadata": {},
   "outputs": [
    {
     "data": {
      "image/png": "[encoded data removed]",
      "text/plain": [
       "<Figure size 432x288 with 1 Axes>"
      ]
     },
     "metadata": {
      "needs_background": "light"
     },
     "output_type": "display_data"
    }
   ],
   "source": [
    "kms = elbow_method(df_predict)"
   ]
  },
  {
   "cell_type": "code",
   "execution_count": 184,
   "metadata": {},
   "outputs": [],
   "source": [
    "km_best = kms[1]"
   ]
  },
  {
   "cell_type": "code",
   "execution_count": 185,
   "metadata": {},
   "outputs": [
    {
     "name": "stdout",
     "output_type": "stream",
     "text": [
      "FEATURES WITH 3 CLUSTERS\n",
      "NumTransactions_mean\n"
     ]
    },
    {
     "data": {
      "image/png": "[encoded data removed]",
      "text/plain": [
       "<Figure size 432x288 with 1 Axes>"
      ]
     },
     "metadata": {
      "needs_background": "light"
     },
     "output_type": "display_data"
    },
    {
     "name": "stdout",
     "output_type": "stream",
     "text": [
      "TotalYearlyAmount_mean\n"
     ]
    },
    {
     "data": {
      "image/png": "[encoded data removed]",
      "text/plain": [
       "<Figure size 432x288 with 1 Axes>"
      ]
     },
     "metadata": {
      "needs_background": "light"
     },
     "output_type": "display_data"
    },
    {
     "name": "stdout",
     "output_type": "stream",
     "text": [
      "MedianTransactionAmount_median\n"
     ]
    },
    {
     "data": {
      "image/png": "[encoded data removed]",
      "text/plain": [
       "<Figure size 432x288 with 1 Axes>"
      ]
     },
     "metadata": {
      "needs_background": "light"
     },
     "output_type": "display_data"
    }
   ],
   "source": [
    "cluster_feats = get_cluster_variances(km_best, df_predict, df_predict)"
   ]
  },
  {
   "cell_type": "code",
   "execution_count": 186,
   "metadata": {
    "scrolled": true
   },
   "outputs": [
    {
     "name": "stdout",
     "output_type": "stream",
     "text": [
      "FEATURES WITH 3 CLUSTERS\n",
      "NumTransactions_mean\n",
      "[15.911683919920073, 1.583901830542304, 2.4812952603291945]\n"
     ]
    },
    {
     "data": {
      "image/png": "[encoded data removed]",
      "text/plain": [
       "<Figure size 432x288 with 1 Axes>"
      ]
     },
     "metadata": {
      "needs_background": "light"
     },
     "output_type": "display_data"
    },
    {
     "name": "stdout",
     "output_type": "stream",
     "text": [
      "TotalYearlyAmount_mean\n",
      "[5446244.315226882, 2843.564476209572, 39421.364909673925]\n"
     ]
    },
    {
     "data": {
      "image/png": "[encoded data removed]",
      "text/plain": [
       "<Figure size 432x288 with 1 Axes>"
      ]
     },
     "metadata": {
      "needs_background": "light"
     },
     "output_type": "display_data"
    },
    {
     "name": "stdout",
     "output_type": "stream",
     "text": [
      "MedianTransactionAmount_median\n",
      "[259321.36498069557, 1835.108381385063, 20807.022966676832]\n"
     ]
    },
    {
     "data": {
      "image/png": "[encoded data removed]",
      "text/plain": [
       "<Figure size 432x288 with 1 Axes>"
      ]
     },
     "metadata": {
      "needs_background": "light"
     },
     "output_type": "display_data"
    }
   ],
   "source": [
    "feats = get_cluster_averages(km_best, df_predict, df_raw)"
   ]
  },
  {
   "cell_type": "markdown",
   "metadata": {},
   "source": [
    "## CHANGE THESE BEFORE RUNNING (look at above graphs)"
   ]
  },
  {
   "cell_type": "code",
   "execution_count": 187,
   "metadata": {},
   "outputs": [],
   "source": [
    "cluster_names = {\n",
    "        0: 'High Value',\n",
    "        2: 'High Potential',\n",
    "        1: 'Low Value'\n",
    "    }"
   ]
  },
  {
   "cell_type": "code",
   "execution_count": 188,
   "metadata": {},
   "outputs": [],
   "source": [
    "feats['Cluster_Name'] = feats['Cluster'].map(lambda x: cluster_names[x])"
   ]
  },
  {
   "cell_type": "code",
   "execution_count": 39,
   "metadata": {},
   "outputs": [],
   "source": [
    "feats[['Cluster', 'Cluster_Name']].to_csv('{}_clusters.csv'.format(tenant), header=True)"
   ]
  },
  {
   "cell_type": "code",
   "execution_count": 260,
   "metadata": {},
   "outputs": [],
   "source": [
    "final = feats[['Cluster', 'Cluster_Name']].reset_index()"
   ]
  },
  {
   "cell_type": "code",
   "execution_count": 261,
   "metadata": {},
   "outputs": [
    {
     "data": {
      "text/html": [
       "<div>\n",
       "<style scoped>\n",
       "    .dataframe tbody tr th:only-of-type {\n",
       "        vertical-align: middle;\n",
       "    }\n",
       "\n",
       "    .dataframe tbody tr th {\n",
       "        vertical-align: top;\n",
       "    }\n",
       "\n",
       "    .dataframe thead th {\n",
       "        text-align: right;\n",
       "    }\n",
       "</style>\n",
       "<table border=\"1\" class=\"dataframe\">\n",
       "  <thead>\n",
       "    <tr style=\"text-align: right;\">\n",
       "      <th></th>\n",
       "      <th>HSTX_ACCT</th>\n",
       "      <th>Cluster</th>\n",
       "      <th>Cluster_Name</th>\n",
       "    </tr>\n",
       "  </thead>\n",
       "  <tbody>\n",
       "    <tr>\n",
       "      <th>0</th>\n",
       "      <td>0001930EE41A36676F6048A800D9895D91B7CCD9C031D5...</td>\n",
       "      <td>2</td>\n",
       "      <td>Low Value</td>\n",
       "    </tr>\n",
       "    <tr>\n",
       "      <th>1</th>\n",
       "      <td>0013AE00DEA021367EDB4D39CB0AEA34A6C427B934DB62...</td>\n",
       "      <td>2</td>\n",
       "      <td>Low Value</td>\n",
       "    </tr>\n",
       "    <tr>\n",
       "      <th>2</th>\n",
       "      <td>001992E50A4420C3F91D3021204CA55E93D73D36BD8B60...</td>\n",
       "      <td>2</td>\n",
       "      <td>Low Value</td>\n",
       "    </tr>\n",
       "    <tr>\n",
       "      <th>3</th>\n",
       "      <td>00212D278A461910DBE0965A3AC2ADDCEAA13533A00460...</td>\n",
       "      <td>1</td>\n",
       "      <td>High Value</td>\n",
       "    </tr>\n",
       "    <tr>\n",
       "      <th>4</th>\n",
       "      <td>0023AB612D70BA2201392DA8B3006DA7C3BDAD613A69A6...</td>\n",
       "      <td>2</td>\n",
       "      <td>Low Value</td>\n",
       "    </tr>\n",
       "  </tbody>\n",
       "</table>\n",
       "</div>"
      ],
      "text/plain": [
       "                                           HSTX_ACCT  Cluster Cluster_Name\n",
       "0  0001930EE41A36676F6048A800D9895D91B7CCD9C031D5...        2    Low Value\n",
       "1  0013AE00DEA021367EDB4D39CB0AEA34A6C427B934DB62...        2    Low Value\n",
       "2  001992E50A4420C3F91D3021204CA55E93D73D36BD8B60...        2    Low Value\n",
       "3  00212D278A461910DBE0965A3AC2ADDCEAA13533A00460...        1   High Value\n",
       "4  0023AB612D70BA2201392DA8B3006DA7C3BDAD613A69A6...        2    Low Value"
      ]
     },
     "execution_count": 261,
     "metadata": {},
     "output_type": "execute_result"
    }
   ],
   "source": [
    "final.head()"
   ]
  },
  {
   "cell_type": "code",
   "execution_count": 189,
   "metadata": {},
   "outputs": [
    {
     "data": {
      "text/plain": [
       "['legacy_clustering.pkl']"
      ]
     },
     "execution_count": 189,
     "metadata": {},
     "output_type": "execute_result"
    }
   ],
   "source": [
    "joblib.dump(km_best, '{}_clustering.pkl'.format(tenant)) "
   ]
  },
  {
   "cell_type": "code",
   "execution_count": 262,
   "metadata": {},
   "outputs": [],
   "source": [
    "# choose clusters names/labels\n",
    "#this is if we make a separate file, so let's not do this for now\n",
    "# data = [[0, 'High Value'],\n",
    "#         [2, 'High Potential'],\n",
    "#         [1, 'Low Value']]\n",
    "# cluster_names = pd.DataFrame(data, columns=['Cluster', 'Cluster_Name']).set_index('Cluster')\n",
    "final.to_csv('{}_cluster_names.csv'.format(tenant), header=True, index = False)"
   ]
  },
  {
   "cell_type": "code",
   "execution_count": null,
   "metadata": {},
   "outputs": [],
   "source": []
  }
 ],
 "metadata": {
  "kernelspec": {
   "display_name": "Python 3 (ipykernel)",
   "language": "python",
   "name": "python3"
  },
  "language_info": {
   "codemirror_mode": {
    "name": "ipython",
    "version": 3
   },
   "file_extension": ".py",
   "mimetype": "text/x-python",
   "name": "python",
   "nbconvert_exporter": "python",
   "pygments_lexer": "ipython3",
   "version": "3.9.7"
  }
 },
 "nbformat": 4,
 "nbformat_minor": 2
}
